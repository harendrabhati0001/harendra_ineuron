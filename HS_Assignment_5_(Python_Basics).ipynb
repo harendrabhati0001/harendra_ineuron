{
 "cells": [
  {
   "cell_type": "markdown",
   "metadata": {
    "id": "CfTf91bMwpUP"
   },
   "source": [
    "## Python (Basics) Assignment No. 5\n",
    "\n",
    "1 Batch - Full Stack Data Science Bootcamp 2.0\n",
    "\n",
    "2 Name - **Harendra singh**\n",
    "\n",
    "3 Email ID - **harendrabhati0001@gmail.com**"
   ]
  },
  {
   "cell_type": "markdown",
   "metadata": {
    "id": "DGmpQv32wzZe"
   },
   "source": [
    "###Q 1. What does an empty dictionary&#39;s code look like?"
   ]
  },
  {
   "cell_type": "markdown",
   "metadata": {
    "id": "ZXy-jFtkxu8O"
   },
   "source": [
    "###Ans .An empty dictionary's code look like two curly brackets: {}"
   ]
  },
  {
   "cell_type": "markdown",
   "metadata": {
    "id": "ssM5laRGx7u-"
   },
   "source": [
    "-------------------------------------------------------------------------------------------------------\n"
   ]
  },
  {
   "cell_type": "markdown",
   "metadata": {
    "id": "dAa5dQ58x9UG"
   },
   "source": [
    "###Q 2. What is the value of a dictionary value with the key &#39;foo&#39; and the value 42?"
   ]
  },
  {
   "cell_type": "markdown",
   "metadata": {
    "id": "lGRAHrEzyB4o"
   },
   "source": [
    "###Ans.The value of a dictionary value with the key 'foo' and the value 42 is {'foo': 42}\n",
    "\n"
   ]
  },
  {
   "cell_type": "code",
   "execution_count": 1,
   "metadata": {
    "id": "WTS0eOr5yINf"
   },
   "outputs": [],
   "source": [
    "dic = {'foo' : 42}"
   ]
  },
  {
   "cell_type": "markdown",
   "metadata": {
    "id": "vhFz5hgLyMOW"
   },
   "source": [
    "--------------------------------------------------------------------------------------------------"
   ]
  },
  {
   "cell_type": "markdown",
   "metadata": {
    "id": "YcBVhnAmyNsG"
   },
   "source": [
    "###Q 3. What is the most significant distinction between a dictionary and a list?"
   ]
  },
  {
   "cell_type": "markdown",
   "metadata": {
    "id": "E1UnFdxcyRmP"
   },
   "source": [
    "###Ans.A list is an ordered sequence of items, whereas dictionaries are unordered sets."
   ]
  },
  {
   "cell_type": "markdown",
   "metadata": {
    "id": "ptkE__Pa1K66"
   },
   "source": [
    "----------------------------------------------------------------------------------------------"
   ]
  },
  {
   "cell_type": "markdown",
   "metadata": {
    "id": "BAmyTBmI1MOi"
   },
   "source": [
    "###Q 4. What happens if you try to access spam[&#39;foo&#39;] if spam is {&#39;bar&#39;: 100}?"
   ]
  },
  {
   "cell_type": "code",
   "execution_count": 2,
   "metadata": {
    "colab": {
     "base_uri": "https://localhost:8080/",
     "height": 200
    },
    "id": "MCLMssdY1SRM",
    "outputId": "5caf07df-2039-4503-9fcb-d6ce4d0fc386"
   },
   "outputs": [
    {
     "ename": "KeyError",
     "evalue": "'foo'",
     "output_type": "error",
     "traceback": [
      "\u001b[1;31m---------------------------------------------------------------------------\u001b[0m",
      "\u001b[1;31mKeyError\u001b[0m                                  Traceback (most recent call last)",
      "Cell \u001b[1;32mIn[2], line 3\u001b[0m\n\u001b[0;32m      1\u001b[0m \u001b[38;5;66;03m###Ans.\u001b[39;00m\n\u001b[0;32m      2\u001b[0m spam \u001b[38;5;241m=\u001b[39m {\u001b[38;5;124m'\u001b[39m\u001b[38;5;124mbar\u001b[39m\u001b[38;5;124m'\u001b[39m:\u001b[38;5;241m100\u001b[39m}\n\u001b[1;32m----> 3\u001b[0m \u001b[43mspam\u001b[49m\u001b[43m[\u001b[49m\u001b[38;5;124;43m'\u001b[39;49m\u001b[38;5;124;43mfoo\u001b[39;49m\u001b[38;5;124;43m'\u001b[39;49m\u001b[43m]\u001b[49m\n",
      "\u001b[1;31mKeyError\u001b[0m: 'foo'"
     ]
    }
   ],
   "source": [
    "###Ans.\n",
    "spam = {'bar':100}\n",
    "spam['foo']"
   ]
  },
  {
   "cell_type": "markdown",
   "metadata": {
    "id": "PeQd_ZzQ1iK8"
   },
   "source": [
    "It will give keyError."
   ]
  },
  {
   "cell_type": "markdown",
   "metadata": {
    "id": "0uZPomPT1jGW"
   },
   "source": [
    "-----------------------------------------------------------------------------------------------------------------\n"
   ]
  },
  {
   "cell_type": "markdown",
   "metadata": {
    "id": "pJl6h9Ee1le6"
   },
   "source": [
    "###Q 5. If a dictionary is stored in spam, what is the difference between the expressions &#39;cat&#39; in spam and &#39;cat&#39; in spam.keys()?"
   ]
  },
  {
   "cell_type": "markdown",
   "metadata": {
    "id": "zlP3uXzm1r5q"
   },
   "source": [
    "###Ans. There is no difference. The in operator checks whether a value exists as a key in the dictionary."
   ]
  },
  {
   "cell_type": "markdown",
   "metadata": {
    "id": "uVMAMp9D1yTy"
   },
   "source": [
    "--------------------------------------------------------------------------------------------"
   ]
  },
  {
   "cell_type": "markdown",
   "metadata": {
    "id": "J9ZTl5BG10Qz"
   },
   "source": [
    "###Q 6. If a dictionary is stored in spam, what is the difference between the expressions &#39;cat&#39; in spam and &#39;cat&#39; in spam.values()?"
   ]
  },
  {
   "cell_type": "markdown",
   "metadata": {
    "id": "JqCDwUmE17bj"
   },
   "source": [
    "###Ans.'cat' in spam checks whether a value exists as a key 'cat' in the dictionary, while 'cat' in spam.values() checks whether there is a value 'cat' for one of the keys in spam."
   ]
  },
  {
   "cell_type": "markdown",
   "metadata": {
    "id": "svMXQ1772DWr"
   },
   "source": [
    "-----------------------------------------------------------------------------------------------------------------------------------------------"
   ]
  },
  {
   "cell_type": "markdown",
   "metadata": {
    "id": "r9Z96uAp2Fej"
   },
   "source": [
    "###Q 7. What is a shortcut for the following code?\n",
    "if &#39;color&#39; not in spam:\n",
    "\n",
    "spam[&#39;color&#39;] = &#39;black&#39;"
   ]
  },
  {
   "cell_type": "markdown",
   "metadata": {
    "id": "kFoRPaAB2Nmk"
   },
   "source": [
    "###Ans.\n",
    "spam.setdefault('color', 'black')\n",
    "\n"
   ]
  },
  {
   "cell_type": "markdown",
   "metadata": {
    "id": "yaYCgI_u2dsT"
   },
   "source": [
    "--------------------------------------------------------------------------------------------------------------------------------"
   ]
  },
  {
   "cell_type": "markdown",
   "metadata": {
    "id": "2k_N5ZoA2fXE"
   },
   "source": [
    "###Q 8. How do you &quot;pretty print&quot; dictionary values using which module and function?"
   ]
  },
  {
   "cell_type": "markdown",
   "metadata": {
    "id": "7-mo78cQ2lBj"
   },
   "source": [
    "###Ans.pprint.pprint()"
   ]
  },
  {
   "cell_type": "markdown",
   "metadata": {
    "id": "yZLmX2Mp2vO4"
   },
   "source": [
    "-----------------------------------------------------------------End--------------------------------------------------------------------"
   ]
  }
 ],
 "metadata": {
  "colab": {
   "provenance": []
  },
  "kernelspec": {
   "display_name": "Python 3 (ipykernel)",
   "language": "python",
   "name": "python3"
  },
  "language_info": {
   "codemirror_mode": {
    "name": "ipython",
    "version": 3
   },
   "file_extension": ".py",
   "mimetype": "text/x-python",
   "name": "python",
   "nbconvert_exporter": "python",
   "pygments_lexer": "ipython3",
   "version": "3.10.9"
  }
 },
 "nbformat": 4,
 "nbformat_minor": 1
}
