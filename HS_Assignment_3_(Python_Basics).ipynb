{
 "cells": [
  {
   "cell_type": "markdown",
   "metadata": {
    "id": "ff_Zae34XGMH"
   },
   "source": [
    "#**iNeuron**\n",
    "\n",
    "## Python (Basics) Assignment No. 3\n",
    "\n",
    "1 Batch - Full Stack Data Science Bootcamp 2.0\n",
    "\n",
    "2 Name - **Harendra singh**\n",
    "\n",
    "3 Email ID - **harendrabhati0001@gmail.com**"
   ]
  },
  {
   "cell_type": "markdown",
   "metadata": {
    "id": "Z7rV8Cz6Xbvm"
   },
   "source": [
    "###Q 1.Why are functions advantageous to have in your programs?"
   ]
  },
  {
   "cell_type": "markdown",
   "metadata": {
    "id": "kyXo_-MbX7QG"
   },
   "source": [
    "### Ans.  Functions reduce the need for duplicate code. This makes programs shorter, easier to read, and easier to update."
   ]
  },
  {
   "cell_type": "markdown",
   "metadata": {
    "id": "38J9WSMcfgfc"
   },
   "source": [
    "-------------------------------------------------------------------------------------------------------------------------------------"
   ]
  },
  {
   "cell_type": "markdown",
   "metadata": {
    "id": "nnUSfnSvYD5t"
   },
   "source": [
    "###Q 2. When does the code in a function run: when it&#39;s specified or when it&#39;s called?"
   ]
  },
  {
   "cell_type": "markdown",
   "metadata": {
    "id": "e9d7B13RYPhZ"
   },
   "source": [
    "### Ans. The code in a function executes when the function is called, not when the function is defined.\n"
   ]
  },
  {
   "cell_type": "markdown",
   "metadata": {
    "id": "9ttlh3nUfjy1"
   },
   "source": [
    "--------------------------------------------------------------------------------------------------------------------------------------------------------------------------"
   ]
  },
  {
   "cell_type": "markdown",
   "metadata": {
    "id": "uzVUWf7hYnDA"
   },
   "source": [
    "### Q 3. What statement creates a function?"
   ]
  },
  {
   "cell_type": "markdown",
   "metadata": {
    "id": "w0UbODyXY_gu"
   },
   "source": [
    "### Ans.  The def statement defines, i.e. creates a function."
   ]
  },
  {
   "cell_type": "markdown",
   "metadata": {
    "id": "KOmPsg38fmeU"
   },
   "source": [
    "---------------------------------------------------------------------------------------------------------------------------------------------------------------------"
   ]
  },
  {
   "cell_type": "markdown",
   "metadata": {
    "id": "Au00bha3fpZN"
   },
   "source": [
    "### Q4. What is the difference between a function and a function call?"
   ]
  },
  {
   "cell_type": "markdown",
   "metadata": {
    "id": "bOSCPUNbfyf-"
   },
   "source": [
    "###Ans. A function consists of the def statement and the code in its def clause. A function call is what moves the program execution into the function, and the function call evaluates to the function's return value."
   ]
  },
  {
   "cell_type": "markdown",
   "metadata": {
    "id": "dhKEEo9YgEVt"
   },
   "source": [
    "------------------------------------------------------------------------------------------------------------------------------------------------------------------------------"
   ]
  },
  {
   "cell_type": "markdown",
   "metadata": {
    "id": "FEj201LagI21"
   },
   "source": [
    "###Q 5. How many global scopes are there in a Python program? How many local scopes?"
   ]
  },
  {
   "cell_type": "markdown",
   "metadata": {
    "id": "gMGb2IHVgYUG"
   },
   "source": [
    "###Ans.  there is one global scope, and a local scope is created whenever a function is called."
   ]
  },
  {
   "cell_type": "markdown",
   "metadata": {
    "id": "bAgJLKU6g2H_"
   },
   "source": [
    "---------------------------------------------------------------------------------------------------------------------------------------------------------------------"
   ]
  },
  {
   "cell_type": "markdown",
   "metadata": {
    "id": "5lfSsI-rg6n1"
   },
   "source": [
    "###Q 6. What happens to variables in a local scope when the function call returns?"
   ]
  },
  {
   "cell_type": "markdown",
   "metadata": {
    "id": "gXiH81hKg_Qe"
   },
   "source": [
    "###Ans. When a function returns, the local scope is destroyed, and all the variables in it are forgotten."
   ]
  },
  {
   "cell_type": "markdown",
   "metadata": {
    "id": "5ImRBB8jhPDJ"
   },
   "source": [
    "-------------------------------------------------------------------------------------------------------------------------------------------------------------------------------------------------------------------------------------------"
   ]
  },
  {
   "cell_type": "markdown",
   "metadata": {
    "id": "sFp4RpNghSEP"
   },
   "source": [
    "###Q7. What is the concept of a return value? Is it possible to have a return value in an expression?"
   ]
  },
  {
   "cell_type": "markdown",
   "metadata": {
    "id": "jWSs1mrYhaYd"
   },
   "source": [
    "###Ans. A return value is the value that a function call evaluates to. Like any value, a return value can be used as part of an expression."
   ]
  },
  {
   "cell_type": "markdown",
   "metadata": {
    "id": "mejTCC7ShaeR"
   },
   "source": [
    "---------------------------------------------------------------------------------------------------------------------------------------------------------------------------------------------"
   ]
  },
  {
   "cell_type": "markdown",
   "metadata": {
    "id": "ykBuyZPnhoHp"
   },
   "source": [
    "###Q8. If a function does not have a return statement, what is the return value of a call to that function?"
   ]
  },
  {
   "cell_type": "markdown",
   "metadata": {
    "id": "pTVBdqg6h-0q"
   },
   "source": [
    "###Ans. If there is no return statement for a function, its return value is None."
   ]
  },
  {
   "cell_type": "markdown",
   "metadata": {
    "id": "RYLSwOTriDGR"
   },
   "source": [
    "-------------------------------------------------------------------------------------------------------------------------------------------------------------\n"
   ]
  },
  {
   "cell_type": "markdown",
   "metadata": {
    "id": "8lwDsTlIiFRD"
   },
   "source": [
    "###Q.9. How do you make a function variable refer to the global variable?"
   ]
  },
  {
   "cell_type": "markdown",
   "metadata": {
    "id": "qyShBTvbiZSd"
   },
   "source": [
    "###Ans. A global statement will force a variable in a function to refer to the global variable."
   ]
  },
  {
   "cell_type": "markdown",
   "metadata": {
    "id": "kbhgfFTPiiGD"
   },
   "source": [
    "---------------------------------------------------------------------------------------------------------------------------------------------\n"
   ]
  },
  {
   "cell_type": "markdown",
   "metadata": {
    "id": "r1QRRGYiikGd"
   },
   "source": [
    "###Q 10. What is the data type of None?"
   ]
  },
  {
   "cell_type": "markdown",
   "metadata": {
    "id": "4Pr0oDHviqOV"
   },
   "source": [
    "###Ans. The data type of None is NoneType."
   ]
  },
  {
   "cell_type": "markdown",
   "metadata": {
    "id": "6WEaC7-0izE7"
   },
   "source": [
    "-------------------------------------------------------------------------------------------------------------------------------------------------------------"
   ]
  },
  {
   "cell_type": "code",
   "execution_count": null,
   "metadata": {
    "id": "9aUNC6YXlgkN"
   },
   "outputs": [],
   "source": []
  },
  {
   "cell_type": "markdown",
   "metadata": {
    "id": "-KCG-hqli1Zf"
   },
   "source": [
    "###Q 11. What does the sentence import areallyourpetsnamederic do?\n"
   ]
  },
  {
   "cell_type": "markdown",
   "metadata": {
    "id": "50lHSFLTi8J1"
   },
   "source": [
    "###Ans. that import statement imports a module named areallyourpetsnamederic."
   ]
  },
  {
   "cell_type": "markdown",
   "metadata": {
    "id": "ifGZN0ZdjIvW"
   },
   "source": [
    "------------------------------------------------------------------------------------------------------------------------------------------------------------------\n"
   ]
  },
  {
   "cell_type": "markdown",
   "metadata": {
    "id": "lo4RWQLVjMOT"
   },
   "source": [
    "###Q 12. If you had a bacon() feature in a spam module, what would you call it after importing spam?"
   ]
  },
  {
   "cell_type": "markdown",
   "metadata": {
    "id": "19HnVaJ3jS7g"
   },
   "source": [
    "###Ans. This function can be called with spam.bacon()."
   ]
  },
  {
   "cell_type": "markdown",
   "metadata": {
    "id": "yytoceU2jrpc"
   },
   "source": [
    "---------------------------------------------------------------------------------------------------------------------------------------------------------------------------------------------"
   ]
  },
  {
   "cell_type": "markdown",
   "metadata": {
    "id": "HQeaV_LUjt8-"
   },
   "source": [
    "###Q 13. What can you do to save a programme from crashing if it encounters an error?"
   ]
  },
  {
   "cell_type": "markdown",
   "metadata": {
    "id": "DTznxKhvj1pe"
   },
   "source": [
    "###Ans. Place the line of code that might cause an error in a try clause."
   ]
  },
  {
   "cell_type": "markdown",
   "metadata": {
    "id": "55pBM3e-j5TW"
   },
   "source": [
    "----------------------------------------------------------------------------------------------------------------------------------------------------------------"
   ]
  },
  {
   "cell_type": "markdown",
   "metadata": {
    "id": "mPOMgzBRj7zI"
   },
   "source": [
    "###Q 14. What is the purpose of the try clause? What is the purpose of the except clause?"
   ]
  },
  {
   "cell_type": "markdown",
   "metadata": {
    "id": "VelAYRaDkFd5"
   },
   "source": [
    "###Ans. -The code that could potentially cause an error goes in the try clause,The code that executes if an error happens goes in the except clause."
   ]
  },
  {
   "cell_type": "markdown",
   "metadata": {
    "id": "KR_G7lIRkkyO"
   },
   "source": [
    "-----------------------------------------------------------End--------------------------------------------------------------------------------------------------------"
   ]
  },
  {
   "cell_type": "code",
   "execution_count": null,
   "metadata": {
    "id": "1157kkA2kJzf"
   },
   "outputs": [],
   "source": []
  }
 ],
 "metadata": {
  "colab": {
   "provenance": []
  },
  "kernelspec": {
   "display_name": "Python 3 (ipykernel)",
   "language": "python",
   "name": "python3"
  },
  "language_info": {
   "codemirror_mode": {
    "name": "ipython",
    "version": 3
   },
   "file_extension": ".py",
   "mimetype": "text/x-python",
   "name": "python",
   "nbconvert_exporter": "python",
   "pygments_lexer": "ipython3",
   "version": "3.10.9"
  }
 },
 "nbformat": 4,
 "nbformat_minor": 1
}
