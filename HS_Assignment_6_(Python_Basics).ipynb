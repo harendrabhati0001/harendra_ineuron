{
 "cells": [
  {
   "cell_type": "markdown",
   "metadata": {
    "id": "W10RvaTD4h4A"
   },
   "source": [
    "## Python (Basics) Assignment No. 6\n",
    "\n",
    "1 Batch - Full Stack Data Science Bootcamp 2.0\n",
    "\n",
    "2 Name - **Harendra Singh**\n",
    "\n",
    "3 Email ID - **harendrabhati0001@gmail.com**"
   ]
  },
  {
   "cell_type": "markdown",
   "metadata": {
    "id": "hPStoj8Y4jx3"
   },
   "source": [
    "--------------------------------------------------------------------------------------------------------------------------------------------------------------"
   ]
  },
  {
   "cell_type": "markdown",
   "metadata": {
    "id": "4xpqJfPF41p2"
   },
   "source": [
    "###Q 1. What are escape characters, and how do you use them?"
   ]
  },
  {
   "cell_type": "markdown",
   "metadata": {
    "id": "JzJRxfMHPeLs"
   },
   "source": [
    "###Ans. An escape character is a backslash \\ followed by the character you want to insert.Escape characters represent characters in string values that would otherwise be difficult or impossible to type into code."
   ]
  },
  {
   "cell_type": "code",
   "execution_count": 1,
   "metadata": {
    "colab": {
     "base_uri": "https://localhost:8080/"
    },
    "id": "ExyU_za3PpZu",
    "outputId": "b1933253-8537-4340-a096-2e37b9ad79b7"
   },
   "outputs": [
    {
     "name": "stdout",
     "output_type": "stream",
     "text": [
      "We have enrolled in \"iNeuron's\" Full Stack Data Science class.\n"
     ]
    }
   ],
   "source": [
    "data = \"We have enrolled in \\\"iNeuron's\\\" Full Stack Data Science class.\"\n",
    "print(data)"
   ]
  },
  {
   "cell_type": "markdown",
   "metadata": {
    "id": "zVK8V7iGPx0D"
   },
   "source": [
    "_________________________________________________________________________________________________________________"
   ]
  },
  {
   "cell_type": "markdown",
   "metadata": {
    "id": "Sio-21xJP3Db"
   },
   "source": [
    "###Q 2. What do the escape characters n and t stand for?  **bold text**"
   ]
  },
  {
   "cell_type": "markdown",
   "metadata": {
    "id": "mU9kIhr_QFnL"
   },
   "source": [
    "#Ans. The escape characters n and t stand for newline and tab respectively. \\n is a newline; \\t is a tab."
   ]
  },
  {
   "cell_type": "markdown",
   "metadata": {
    "id": "9Smcw6AnQdF6"
   },
   "source": [
    "--------------------------------------------------------------------------------------------------------------------------------------------------------------"
   ]
  },
  {
   "cell_type": "markdown",
   "metadata": {
    "id": "O7wxGqEVQ-ax"
   },
   "source": [
    "###Q 3. What is the way to include backslash characters in a string?"
   ]
  },
  {
   "cell_type": "markdown",
   "metadata": {
    "id": "zJCfveRIRW8q"
   },
   "source": [
    "###Ans.The \\ escape character will represent a backslash character."
   ]
  },
  {
   "cell_type": "markdown",
   "metadata": {
    "id": "WK1M7KbhT5v_"
   },
   "source": [
    "___________________________________________________________________________________________________________________________________________________________"
   ]
  },
  {
   "cell_type": "markdown",
   "metadata": {
    "id": "Cmo5qcirT776"
   },
   "source": [
    "###Q 4. The string &quot;Howl&#39;s Moving Castle&quot; is a correct value. Why isn&#39;t the single quote character in the word Howl&#39;s not escaped a problem?"
   ]
  },
  {
   "cell_type": "markdown",
   "metadata": {
    "id": "J-bzVMfKULkV"
   },
   "source": [
    "###Ans.The single quote in Howl's is fine because you’ve used double quotes to mark the beginning and end of the string. if its wrapped inside single quotes then we have to use escape character ' to show single quote in the final output\n",
    "\n",
    "'Howl's Moving Castle' -> 'Howl's Moving Castle'"
   ]
  },
  {
   "cell_type": "markdown",
   "metadata": {
    "id": "oOcDgrLkUZ4J"
   },
   "source": [
    "_______________________________________________________________________________________________________________________________________________________________________"
   ]
  },
  {
   "cell_type": "markdown",
   "metadata": {
    "id": "pnOsUdkMUcIp"
   },
   "source": [
    "###Q 5. How do you write a string of newlines if you don&#39;t want to use the n character?"
   ]
  },
  {
   "cell_type": "markdown",
   "metadata": {
    "id": "hgmiPPm8Ukep"
   },
   "source": [
    "###Ans.Multiline strings allow us to use newlines in strings without the \\n escape character."
   ]
  },
  {
   "cell_type": "markdown",
   "metadata": {
    "id": "E4grpxD2UuD9"
   },
   "source": [
    "________________________________________________________________________________________________________________________________________________________________"
   ]
  },
  {
   "cell_type": "markdown",
   "metadata": {
    "id": "kpo9oIk4U0zP"
   },
   "source": [
    "###Q 6. What are the values of the given expressions?\n",
    "&#39;Hello, world!&#39;[1]\n",
    "\n",
    "&#39;Hello, world!&#39;[0:5]\n",
    "\n",
    "&#39;Hello, world!&#39;[:5]\n",
    "\n",
    "&#39;Hello, world!&#39;[3:]"
   ]
  },
  {
   "cell_type": "markdown",
   "metadata": {
    "id": "E8_QNRfXU35-"
   },
   "source": [
    "###Ans."
   ]
  },
  {
   "cell_type": "code",
   "execution_count": 2,
   "metadata": {
    "colab": {
     "base_uri": "https://localhost:8080/",
     "height": 35
    },
    "id": "k_X5FgNqVFjv",
    "outputId": "d9184539-7ffa-447d-add4-4ca04fe63d1d"
   },
   "outputs": [
    {
     "data": {
      "text/plain": [
       "'e'"
      ]
     },
     "execution_count": 2,
     "metadata": {},
     "output_type": "execute_result"
    }
   ],
   "source": [
    "'Hello, world!'[1]"
   ]
  },
  {
   "cell_type": "code",
   "execution_count": 3,
   "metadata": {
    "colab": {
     "base_uri": "https://localhost:8080/",
     "height": 35
    },
    "id": "-SLj7YvaVbQ_",
    "outputId": "965e4e8a-2f7b-49ce-c142-79c922eda0f4"
   },
   "outputs": [
    {
     "data": {
      "text/plain": [
       "'Hello'"
      ]
     },
     "execution_count": 3,
     "metadata": {},
     "output_type": "execute_result"
    }
   ],
   "source": [
    "'Hello,world!'[0:5]"
   ]
  },
  {
   "cell_type": "code",
   "execution_count": 4,
   "metadata": {
    "colab": {
     "base_uri": "https://localhost:8080/",
     "height": 35
    },
    "id": "ndMCwAD7V1w3",
    "outputId": "445e02ec-72b3-446c-e3e6-1318b36f936f"
   },
   "outputs": [
    {
     "data": {
      "text/plain": [
       "'Hello'"
      ]
     },
     "execution_count": 4,
     "metadata": {},
     "output_type": "execute_result"
    }
   ],
   "source": [
    "'Hello,world!'[:5]"
   ]
  },
  {
   "cell_type": "code",
   "execution_count": 5,
   "metadata": {
    "colab": {
     "base_uri": "https://localhost:8080/",
     "height": 35
    },
    "id": "0FoG80TEWXqi",
    "outputId": "352ac247-eaa3-4c54-c7ae-e153a74d9f0e"
   },
   "outputs": [
    {
     "data": {
      "text/plain": [
       "'lo,world!'"
      ]
     },
     "execution_count": 5,
     "metadata": {},
     "output_type": "execute_result"
    }
   ],
   "source": [
    "'Hello,world!'[3:]"
   ]
  },
  {
   "cell_type": "markdown",
   "metadata": {
    "id": "sBmaCfGzW12D"
   },
   "source": [
    "---------------------------------------------------------------------------------------------------------------------------------------------------------------"
   ]
  },
  {
   "cell_type": "markdown",
   "metadata": {
    "id": "Xx2nrpz9W4GU"
   },
   "source": [
    "###Q 7. What are the values of the following expressions?\n",
    "&#39;Hello&#39;.upper()\n",
    "\n",
    "&#39;Hello&#39;.upper().isupper()\n",
    "\n",
    "&#39;Hello&#39;.upper().lower()"
   ]
  },
  {
   "cell_type": "markdown",
   "metadata": {
    "id": "O_N8PHDmXBLO"
   },
   "source": [
    "###Ans."
   ]
  },
  {
   "cell_type": "code",
   "execution_count": 6,
   "metadata": {
    "colab": {
     "base_uri": "https://localhost:8080/",
     "height": 35
    },
    "id": "7GICO0TIXUR1",
    "outputId": "c079952d-ff8b-4742-f526-58061e4bd5ee"
   },
   "outputs": [
    {
     "data": {
      "text/plain": [
       "'HELLO'"
      ]
     },
     "execution_count": 6,
     "metadata": {},
     "output_type": "execute_result"
    }
   ],
   "source": [
    "'Hello'.upper()"
   ]
  },
  {
   "cell_type": "code",
   "execution_count": 7,
   "metadata": {
    "colab": {
     "base_uri": "https://localhost:8080/"
    },
    "id": "SX_tVOgqXdxk",
    "outputId": "5509bf4d-688a-4132-ecae-d874d3c5edb7"
   },
   "outputs": [
    {
     "data": {
      "text/plain": [
       "True"
      ]
     },
     "execution_count": 7,
     "metadata": {},
     "output_type": "execute_result"
    }
   ],
   "source": [
    "'Hello'.upper().isupper()"
   ]
  },
  {
   "cell_type": "code",
   "execution_count": 8,
   "metadata": {
    "colab": {
     "base_uri": "https://localhost:8080/",
     "height": 35
    },
    "id": "jC0xQaRlXrTf",
    "outputId": "7b4d5339-4a2e-4ec6-8d27-7408dee2f2a0"
   },
   "outputs": [
    {
     "data": {
      "text/plain": [
       "'hello'"
      ]
     },
     "execution_count": 8,
     "metadata": {},
     "output_type": "execute_result"
    }
   ],
   "source": [
    "'Hello'.upper().lower()"
   ]
  },
  {
   "cell_type": "markdown",
   "metadata": {
    "id": "IFgMs0mEX33z"
   },
   "source": [
    "------------------------------------------------------------------------------------------------------------------------------------------"
   ]
  },
  {
   "cell_type": "markdown",
   "metadata": {
    "id": "f6-5_ZUsX5uK"
   },
   "source": [
    "###Q 8. What are the values of the following expressions?\n",
    "&#39;Remember, remember, the fifth of July.&#39;.split()\n",
    "\n",
    "&#39;-&#39;.join(&#39;There can only one.&#39;.split())"
   ]
  },
  {
   "cell_type": "markdown",
   "metadata": {
    "id": "3rZ26armYAW7"
   },
   "source": [
    "#Ans."
   ]
  },
  {
   "cell_type": "code",
   "execution_count": 9,
   "metadata": {
    "colab": {
     "base_uri": "https://localhost:8080/"
    },
    "id": "uLYK6w7DYLVI",
    "outputId": "362e2c7f-2ad3-42ec-ea2a-b13a456dfda4"
   },
   "outputs": [
    {
     "data": {
      "text/plain": [
       "['Remember,', 'remember,', 'the', 'fifth', 'of', 'July.']"
      ]
     },
     "execution_count": 9,
     "metadata": {},
     "output_type": "execute_result"
    }
   ],
   "source": [
    "#The expressions evaluate to the following:\n",
    "\n",
    "'Remember, remember, the fifth of July.'.split()"
   ]
  },
  {
   "cell_type": "code",
   "execution_count": 10,
   "metadata": {
    "colab": {
     "base_uri": "https://localhost:8080/",
     "height": 35
    },
    "id": "M4QpHBspYfOV",
    "outputId": "8fdf88ad-fa51-46df-cf9b-19bffb5b8fbc"
   },
   "outputs": [
    {
     "data": {
      "text/plain": [
       "'There-can-only-one.'"
      ]
     },
     "execution_count": 10,
     "metadata": {},
     "output_type": "execute_result"
    }
   ],
   "source": [
    "'-'.join('There can only one.'.split())"
   ]
  },
  {
   "cell_type": "markdown",
   "metadata": {
    "id": "3Cz5Bl-nYkW4"
   },
   "source": [
    "________________________________________________________________________________________________________________"
   ]
  },
  {
   "cell_type": "markdown",
   "metadata": {
    "id": "X64RNynaYpXU"
   },
   "source": [
    "###Q 9. What are the methods for right-justifying, left-justifying, and centering a string?"
   ]
  },
  {
   "cell_type": "markdown",
   "metadata": {
    "id": "3EeE4RhMYrja"
   },
   "source": [
    "###Ans. The rjust(), ljust(), and center() string methods, respectively are the methods for right-justifying, left-justifying, and centering a string"
   ]
  },
  {
   "cell_type": "markdown",
   "metadata": {
    "id": "iCxGlSIDZDw7"
   },
   "source": [
    "----------------------------------------------------------------------------------------------------------------------------"
   ]
  },
  {
   "cell_type": "markdown",
   "metadata": {
    "id": "pSrlbVlZY3eG"
   },
   "source": [
    "###Q 10. What is the best way to remove whitespace characters from the start or end?"
   ]
  },
  {
   "cell_type": "markdown",
   "metadata": {
    "id": "lQPTU7JiZB9B"
   },
   "source": [
    "###Ans.The lstrip() and rstrip() methods remove whitespace from the left and right ends of a string, respectively."
   ]
  },
  {
   "cell_type": "markdown",
   "metadata": {
    "id": "Jfo-eI8KZN-G"
   },
   "source": [
    "-----------------------------------------------------------End----------------------------------------------------------------------------------"
   ]
  }
 ],
 "metadata": {
  "colab": {
   "provenance": []
  },
  "kernelspec": {
   "display_name": "Python 3 (ipykernel)",
   "language": "python",
   "name": "python3"
  },
  "language_info": {
   "codemirror_mode": {
    "name": "ipython",
    "version": 3
   },
   "file_extension": ".py",
   "mimetype": "text/x-python",
   "name": "python",
   "nbconvert_exporter": "python",
   "pygments_lexer": "ipython3",
   "version": "3.10.9"
  }
 },
 "nbformat": 4,
 "nbformat_minor": 1
}
