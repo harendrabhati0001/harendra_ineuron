{
 "cells": [
  {
   "cell_type": "markdown",
   "metadata": {
    "id": "qByo3oS6_2HK"
   },
   "source": [
    "## Python (Basics) Assignment No. 4\n",
    "\n",
    "1 Batch - Full Stack Data Science Bootcamp 2.0\n",
    "\n",
    "2 Name - **Harendra Singh**\n",
    "\n",
    "3 Email ID - **Harendrabhati0001@gmail.com**"
   ]
  },
  {
   "cell_type": "markdown",
   "metadata": {
    "id": "UwsaDM_c_75t"
   },
   "source": [
    "###Q 1. What exactly is []?"
   ]
  },
  {
   "cell_type": "markdown",
   "metadata": {
    "id": "pit2MtuUAiVg"
   },
   "source": [
    "###Ans. The empty list value, which is a list value that contains no items."
   ]
  },
  {
   "cell_type": "markdown",
   "metadata": {
    "id": "GZBnwx6oCxL_"
   },
   "source": [
    "---------------------------------------------------------------------------------------------------------------------------------------------------------------------"
   ]
  },
  {
   "cell_type": "markdown",
   "metadata": {
    "id": "J1y6jpspAvw-"
   },
   "source": [
    "###Q 2. In a list of values stored in a variable called spam, how would you assign the value &#39;hello&#39; as thethird value? (Assume [2, 4, 6, 8, 10] are in spam.)  Let&#39;s pretend the spam includes the list [&#39;a&#39;, &#39;b&#39;, &#39;c&#39;, &#39;d&#39;] for the next three queries."
   ]
  },
  {
   "cell_type": "code",
   "execution_count": null,
   "metadata": {
    "id": "sKZmK4z3DL6U"
   },
   "outputs": [],
   "source": []
  },
  {
   "cell_type": "code",
   "execution_count": null,
   "metadata": {
    "colab": {
     "base_uri": "https://localhost:8080/"
    },
    "id": "pQrOVZpLCX5W",
    "outputId": "bee808e8-13ab-4639-a614-81b57699f9d7"
   },
   "outputs": [
    {
     "data": {
      "text/plain": [
       "[2, 4, 'hello', 8, 10]"
      ]
     },
     "execution_count": 4,
     "metadata": {},
     "output_type": "execute_result"
    }
   ],
   "source": [
    "###Ans.\n",
    "spam = [2,4,6,8,10]\n",
    "\n",
    "spam[2] = \"hello\"\n",
    "\n",
    "spam"
   ]
  },
  {
   "cell_type": "code",
   "execution_count": null,
   "metadata": {
    "id": "aLGfjp-GCeH-"
   },
   "outputs": [],
   "source": [
    "spam = ['a','b','c','d']"
   ]
  },
  {
   "cell_type": "markdown",
   "metadata": {
    "id": "I-YDq6SxCwUO"
   },
   "source": [
    "---------------------------------------------------------------------------------------------------------------------------------------------------------------------------------------------------------------------------------------"
   ]
  },
  {
   "cell_type": "markdown",
   "metadata": {
    "id": "tIDqq5glC7C3"
   },
   "source": [
    "###Q 3. What is the value of spam[int(int(&#39;3&#39; * 2) / 11)]?"
   ]
  },
  {
   "cell_type": "code",
   "execution_count": null,
   "metadata": {
    "colab": {
     "base_uri": "https://localhost:8080/",
     "height": 36
    },
    "id": "k_GKQq19DWzt",
    "outputId": "0545f248-8e62-478b-fe22-b4d3d7590b65"
   },
   "outputs": [
    {
     "data": {
      "application/vnd.google.colaboratory.intrinsic+json": {
       "type": "string"
      },
      "text/plain": [
       "'d'"
      ]
     },
     "execution_count": 6,
     "metadata": {},
     "output_type": "execute_result"
    }
   ],
   "source": [
    "###Ans.\n",
    "spam[int(int('3'*2)/11)]"
   ]
  },
  {
   "cell_type": "markdown",
   "metadata": {
    "id": "otZgvuECDkY2"
   },
   "source": [
    "'3' * 2 is the string '33', which is passed to int() before being divided by 11. This eventually evaluates to 3. Expressions can be used wherever values are used."
   ]
  },
  {
   "cell_type": "markdown",
   "metadata": {
    "id": "uD3BakyQDkfT"
   },
   "source": [
    "----------------------------------------------------------------------------------------------------------------------------------------------------------------------"
   ]
  },
  {
   "cell_type": "markdown",
   "metadata": {
    "id": "hPf7ZLMyDpa3"
   },
   "source": [
    "###Q 4. What is the value of spam[-1]?"
   ]
  },
  {
   "cell_type": "code",
   "execution_count": null,
   "metadata": {
    "colab": {
     "base_uri": "https://localhost:8080/",
     "height": 36
    },
    "id": "64Yp1PbWDwG3",
    "outputId": "9007ecc7-1af9-430a-99a2-06176b56e168"
   },
   "outputs": [
    {
     "data": {
      "application/vnd.google.colaboratory.intrinsic+json": {
       "type": "string"
      },
      "text/plain": [
       "'d'"
      ]
     },
     "execution_count": 7,
     "metadata": {},
     "output_type": "execute_result"
    }
   ],
   "source": [
    "###Ans.\n",
    "spam[-1]"
   ]
  },
  {
   "cell_type": "markdown",
   "metadata": {
    "id": "AEvXSbnUESrg"
   },
   "source": [
    "Negative indexes count from the end."
   ]
  },
  {
   "cell_type": "markdown",
   "metadata": {
    "id": "3FgxDAhXEUf5"
   },
   "source": [
    "-------------------------------------------------------------------------------------------------------------------------------------------------------------------"
   ]
  },
  {
   "cell_type": "markdown",
   "metadata": {
    "id": "RLn9OiG-EXn3"
   },
   "source": [
    "###Q 5. What is the value of spam[:2]?"
   ]
  },
  {
   "cell_type": "code",
   "execution_count": null,
   "metadata": {
    "colab": {
     "base_uri": "https://localhost:8080/"
    },
    "id": "5QBhlisZEg04",
    "outputId": "c384129e-de19-4ab6-97c4-4cf1bd4fd507"
   },
   "outputs": [
    {
     "data": {
      "text/plain": [
       "['a', 'b']"
      ]
     },
     "execution_count": 8,
     "metadata": {},
     "output_type": "execute_result"
    }
   ],
   "source": [
    "##Ans.\n",
    "spam[:2]"
   ]
  },
  {
   "cell_type": "markdown",
   "metadata": {
    "id": "USPcGN8lEkEv"
   },
   "source": [
    "###Let's pretend bacon has the list [3.14, 'cat,' 11, 'cat,' True] for the next three questions."
   ]
  },
  {
   "cell_type": "code",
   "execution_count": null,
   "metadata": {
    "id": "lH10olHzErS3"
   },
   "outputs": [],
   "source": [
    "bacon = [3.14,'cat',11,'cat',True]"
   ]
  },
  {
   "cell_type": "markdown",
   "metadata": {
    "id": "J4isV8GyExI_"
   },
   "source": [
    "###Q 6. What is the value of bacon.index(&#39;cat&#39;)?"
   ]
  },
  {
   "cell_type": "code",
   "execution_count": null,
   "metadata": {
    "colab": {
     "base_uri": "https://localhost:8080/"
    },
    "id": "KFEsx1juE8jA",
    "outputId": "0d48ea0b-08b5-4e25-8146-feaa8d3cb686"
   },
   "outputs": [
    {
     "data": {
      "text/plain": [
       "1"
      ]
     },
     "execution_count": 10,
     "metadata": {},
     "output_type": "execute_result"
    }
   ],
   "source": [
    "bacon.index('cat')"
   ]
  },
  {
   "cell_type": "markdown",
   "metadata": {
    "id": "yGhSD5bRE7Y_"
   },
   "source": [
    "---------------------------------------------------------------------------------------------------------------------------------------------------------------------------"
   ]
  },
  {
   "cell_type": "markdown",
   "metadata": {
    "id": "p01nvwhdE31_"
   },
   "source": [
    "###Q7. How does bacon.append(99) change the look of the list value in bacon?"
   ]
  },
  {
   "cell_type": "code",
   "execution_count": null,
   "metadata": {
    "colab": {
     "base_uri": "https://localhost:8080/"
    },
    "id": "I5mN6BgnFHPG",
    "outputId": "63d3bd22-a19c-4922-9d9a-bb5a69793989"
   },
   "outputs": [
    {
     "data": {
      "text/plain": [
       "[3.14, 'cat', 11, 'cat', True, 99]"
      ]
     },
     "execution_count": 13,
     "metadata": {},
     "output_type": "execute_result"
    }
   ],
   "source": [
    "bacon = [3.14,'cat',11,'cat',True] \n",
    "\n",
    "bacon.append(99)\n",
    "\n",
    "bacon"
   ]
  },
  {
   "cell_type": "markdown",
   "metadata": {
    "id": "Kqkt1dF4Fm4g"
   },
   "source": [
    "---------------------------------------------------------------------------------------------------------------------------------------------------------------------"
   ]
  },
  {
   "cell_type": "markdown",
   "metadata": {
    "id": "7pUjdgeGFXYA"
   },
   "source": [
    "###Q 8. How does bacon.remove(&#39;cat&#39;) change the look of the list in bacon?"
   ]
  },
  {
   "cell_type": "code",
   "execution_count": null,
   "metadata": {
    "colab": {
     "base_uri": "https://localhost:8080/"
    },
    "id": "seyrFLNkFkpJ",
    "outputId": "7e0b25a5-b0a7-4f81-d338-9006980cda66"
   },
   "outputs": [
    {
     "data": {
      "text/plain": [
       "[3.14, 'cat', 11, 'cat', True, 99]"
      ]
     },
     "execution_count": 14,
     "metadata": {},
     "output_type": "execute_result"
    }
   ],
   "source": [
    "bacon"
   ]
  },
  {
   "cell_type": "code",
   "execution_count": null,
   "metadata": {
    "colab": {
     "base_uri": "https://localhost:8080/"
    },
    "id": "lcOTivDeFwMI",
    "outputId": "82b0a275-cb79-473f-9a49-025f204d85f2"
   },
   "outputs": [
    {
     "data": {
      "text/plain": [
       "[3.14, 11, True, 99]"
      ]
     },
     "execution_count": 16,
     "metadata": {},
     "output_type": "execute_result"
    }
   ],
   "source": [
    "bacon.remove('cat')\n",
    "bacon\n"
   ]
  },
  {
   "cell_type": "markdown",
   "metadata": {
    "id": "BDwNy1B6F5TI"
   },
   "source": [
    "------------------------------------------------------------------------------------------------------------------------------------------------"
   ]
  },
  {
   "cell_type": "markdown",
   "metadata": {
    "id": "UV0Vk7NKGbZh"
   },
   "source": [
    "###Q 9. What are the list concatenation and list replication operators?"
   ]
  },
  {
   "cell_type": "markdown",
   "metadata": {
    "id": "03g1HcX8Gk1w"
   },
   "source": [
    "###Ans.The operator for list concatenation is +, and for list replication is *"
   ]
  },
  {
   "cell_type": "markdown",
   "metadata": {
    "id": "hf5QGNZQHGdp"
   },
   "source": []
  },
  {
   "cell_type": "markdown",
   "metadata": {
    "id": "03A1sEyqGoI5"
   },
   "source": [
    "---------------------------------------------------------------------------------------------------------------------------------"
   ]
  },
  {
   "cell_type": "markdown",
   "metadata": {
    "id": "KWWJaxPQGpt2"
   },
   "source": [
    "###Q 10. What is difference between the list methods append() and insert()?"
   ]
  },
  {
   "cell_type": "markdown",
   "metadata": {
    "id": "SPMx-EoqGuOm"
   },
   "source": [
    "###Ans. In list append() will add value at the end only, whereas insert() can add value at any index in the list.In list append() will add value at the end only, whereas insert() can add value at any index in the list."
   ]
  },
  {
   "cell_type": "markdown",
   "metadata": {
    "id": "HHyeGZY0HCRt"
   },
   "source": [
    "---------------------------------------------------------------------------------------------------"
   ]
  },
  {
   "cell_type": "markdown",
   "metadata": {
    "id": "svZZP6zrHDuz"
   },
   "source": [
    "###Q 11. What are the two methods for removing items from a list?"
   ]
  },
  {
   "cell_type": "markdown",
   "metadata": {
    "id": "TXITuEWvHTxJ"
   },
   "source": [
    "###Ans.We can remove an item from the list by passing the value of the item to be deleted as the parameter to remove() function. and pop() is also a method of list for removing item from index."
   ]
  },
  {
   "cell_type": "markdown",
   "metadata": {
    "id": "FlI8DJuaHWj5"
   },
   "source": [
    "---------------------------------------------------------------------------------------------\n",
    "\n"
   ]
  },
  {
   "cell_type": "markdown",
   "metadata": {
    "id": "1P9ZwPmtHdyh"
   },
   "source": [
    "###Q 12. Describe how list values and string values are identical."
   ]
  },
  {
   "cell_type": "markdown",
   "metadata": {
    "id": "tycgYYwsHkyx"
   },
   "source": [
    "###Ans. Both lists and strings can be passed to len(), have indexes and slices, be used in for loops, be concatenated or replicated, and be used with the in and not in operators."
   ]
  },
  {
   "cell_type": "markdown",
   "metadata": {
    "id": "QYTQDSuqHpTx"
   },
   "source": [
    "------------------------------------------------------------------------------------------------------------------"
   ]
  },
  {
   "cell_type": "markdown",
   "metadata": {
    "id": "39FD5a7lHq0i"
   },
   "source": [
    "###Q 13. What&#39;s the difference between tuples and lists?"
   ]
  },
  {
   "cell_type": "markdown",
   "metadata": {
    "id": "tf9ciCWWHul5"
   },
   "source": [
    "###Ans.Tuples are immutable; they cannot be changed at all whereas Lists are mutable; they can have values added, removed, or changed. Also, tuples are written using parentheses, ( ), while lists use the square brackets, [ ]."
   ]
  },
  {
   "cell_type": "markdown",
   "metadata": {
    "id": "Ax6it51PH55p"
   },
   "source": [
    "----------------------------------------------------------------------------------------------------------------"
   ]
  },
  {
   "cell_type": "markdown",
   "metadata": {
    "id": "8Fkw9wfnH79h"
   },
   "source": [
    "###Q 14. How do you type a tuple value that only contains the integer 42?"
   ]
  },
  {
   "cell_type": "code",
   "execution_count": null,
   "metadata": {
    "colab": {
     "base_uri": "https://localhost:8080/"
    },
    "id": "cwnL6_thIJZc",
    "outputId": "885b5817-7731-42cd-98c7-d91a0c8dd41c"
   },
   "outputs": [
    {
     "data": {
      "text/plain": [
       "tuple"
      ]
     },
     "execution_count": 18,
     "metadata": {},
     "output_type": "execute_result"
    }
   ],
   "source": [
    "t = (42,)\n",
    "type(t)"
   ]
  },
  {
   "cell_type": "markdown",
   "metadata": {
    "id": "li9bz7eyIRVk"
   },
   "source": [
    "*The trailing comma is mandatory."
   ]
  },
  {
   "cell_type": "markdown",
   "metadata": {
    "id": "GzUfQkeRISiR"
   },
   "source": [
    "------------------------------------------------------------------------------------------------------------------------------------------------------------------------------------------------------"
   ]
  },
  {
   "cell_type": "markdown",
   "metadata": {
    "id": "qoTybXPbIcz5"
   },
   "source": [
    "###Q 15. How do you get a list value&#39;s tuple form? How do you get a tuple value&#39;s list form?"
   ]
  },
  {
   "cell_type": "code",
   "execution_count": 8,
   "metadata": {
    "colab": {
     "base_uri": "https://localhost:8080/"
    },
    "id": "qzsh3L0sIxG5",
    "outputId": "ebe50752-1f6c-4009-ee99-ee37ada53fef"
   },
   "outputs": [
    {
     "name": "stdout",
     "output_type": "stream",
     "text": [
      "<class 'tuple'>\n",
      "<class 'list'>\n",
      "<class 'tuple'>\n"
     ]
    }
   ],
   "source": [
    "t = (1,2,3,4)\n",
    "print(type(t))\n",
    "\n",
    "print(type(list(t)))\n",
    "\n",
    "print(type(tuple(a)))\n",
    "\n",
    "\n"
   ]
  },
  {
   "cell_type": "markdown",
   "metadata": {
    "id": "Loy557J2IrOB"
   },
   "source": [
    "By using list() and tuple() function."
   ]
  },
  {
   "cell_type": "markdown",
   "metadata": {
    "id": "IZEIOOhHZH58"
   },
   "source": [
    "--------------------------------------------------------------------------------------------------------"
   ]
  },
  {
   "cell_type": "markdown",
   "metadata": {
    "id": "XweY7ebUZJxq"
   },
   "source": [
    "###Q 16. Variables that &quot;contain&quot; list values are not necessarily lists themselves. Instead, what do they contain?"
   ]
  },
  {
   "cell_type": "markdown",
   "metadata": {
    "id": "WZW1uHfzZNmA"
   },
   "source": [
    "###Ans.Variables will contain references to list values rather than list values themselves."
   ]
  },
  {
   "cell_type": "markdown",
   "metadata": {
    "id": "cikdm59JZdTG"
   },
   "source": [
    "--------------------------------------------------------------------------------------------------------------------------------------------------------------"
   ]
  },
  {
   "cell_type": "markdown",
   "metadata": {
    "id": "iYFqz4TCZfUH"
   },
   "source": [
    "###Q 17. How do you distinguish between copy.copy() and copy.deepcopy()?"
   ]
  },
  {
   "cell_type": "markdown",
   "metadata": {
    "id": "8GAJnnRMZlbO"
   },
   "source": [
    "###Ans.The copy.copy() function will do a shallow copy of a list, while the copy.deepcopy() function will do a deep copy of a list. That is, only copy.deepcopy() will duplicate any lists inside the list."
   ]
  },
  {
   "cell_type": "markdown",
   "metadata": {
    "id": "kVaPa9q8ZrYp"
   },
   "source": [
    "------------------------------------------------End---------------------------------------------------------------------------------------------"
   ]
  }
 ],
 "metadata": {
  "colab": {
   "provenance": []
  },
  "kernelspec": {
   "display_name": "Python 3 (ipykernel)",
   "language": "python",
   "name": "python3"
  },
  "language_info": {
   "codemirror_mode": {
    "name": "ipython",
    "version": 3
   },
   "file_extension": ".py",
   "mimetype": "text/x-python",
   "name": "python",
   "nbconvert_exporter": "python",
   "pygments_lexer": "ipython3",
   "version": "3.10.9"
  }
 },
 "nbformat": 4,
 "nbformat_minor": 1
}
