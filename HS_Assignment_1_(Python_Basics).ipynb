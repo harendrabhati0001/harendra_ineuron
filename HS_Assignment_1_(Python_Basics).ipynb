{
 "cells": [
  {
   "cell_type": "markdown",
   "metadata": {
    "id": "criPUJM_lB8o"
   },
   "source": [
    "#**iNeuron**\n",
    "## Python (Basics) Assignment No. 1\n",
    "\n",
    "* Batch - Full Stack Data Science Bootcamp 2.0\n",
    "* Name - **Harendra singh**\n",
    "* Email ID - **harendrabhati0001@gmail.com**"
   ]
  },
  {
   "cell_type": "markdown",
   "metadata": {
    "id": "9qZgngf3luYF"
   },
   "source": [
    "------------------------------------------------------------------------------"
   ]
  },
  {
   "cell_type": "markdown",
   "metadata": {
    "id": "ibQ_UkHMyOOK"
   },
   "source": [
    "## Q1.) In the below elements which of them are values or an expression? eg:- values can be integer or string and expressions will be mathematical operators.\n",
    "* \n",
    "(a) 'hello'\n",
    "-(b) -87.8\n",
    "-(c) - \n",
    "-(d) / \n",
    "-(e) +\t\n",
    "-(f) 6"
   ]
  },
  {
   "cell_type": "markdown",
   "metadata": {
    "id": "ZLFiClin2Ydz"
   },
   "source": [
    "####Ans of Q1.).....\n"
   ]
  },
  {
   "cell_type": "code",
   "execution_count": null,
   "metadata": {
    "colab": {
     "base_uri": "https://localhost:8080/"
    },
    "id": "ZRHwGxCUyIMy",
    "outputId": "a1e0a7c8-bd3a-44ae-b88b-e43935965b0c"
   },
   "outputs": [
    {
     "name": "stdout",
     "output_type": "stream",
     "text": [
      "<class 'str'>\n"
     ]
    }
   ],
   "source": [
    "# (a) \n",
    "# 'hello' is a value (String type of value) as it's in '_' single/double qutoes format.\n",
    "#  ex:\n",
    "\n",
    "a = 'hello'\n",
    "print(type(a))"
   ]
  },
  {
   "cell_type": "code",
   "execution_count": null,
   "metadata": {
    "colab": {
     "base_uri": "https://localhost:8080/"
    },
    "id": "sNeviYAJysEv",
    "outputId": "497fe5e0-c711-4095-9cec-aca07cfa76d7"
   },
   "outputs": [
    {
     "name": "stdout",
     "output_type": "stream",
     "text": [
      "<class 'float'>\n"
     ]
    }
   ],
   "source": [
    "# (b)\n",
    "# -87.8 is a value (float type of value) as it's having float value.\n",
    "# ex:\n",
    "b = -87.8\n",
    "print(type(b))"
   ]
  },
  {
   "cell_type": "markdown",
   "metadata": {
    "id": "t6M9iLun0-uH"
   },
   "source": [
    "#### (c) **- (Minus)** is an expression (Mathematical expression) as it's a mathematical operator.\n",
    "#### (d) **/ (Divide)** is an expression (Mathematical expression) as it's a mathematical operator.\n",
    "#### (e) **+ (Addition)** is an expression (Mathematical expression) as it's a mathematical operator.\n"
   ]
  },
  {
   "cell_type": "code",
   "execution_count": null,
   "metadata": {
    "colab": {
     "base_uri": "https://localhost:8080/"
    },
    "id": "gfhOdMGJzouR",
    "outputId": "173e063f-ca3e-4693-b6d0-6f4645145c95"
   },
   "outputs": [
    {
     "name": "stdout",
     "output_type": "stream",
     "text": [
      "<class 'int'>\n"
     ]
    }
   ],
   "source": [
    "# (f)\n",
    "# 6 is a value (Integer type of value) as it's a numeric digit.\n",
    "# ex:\n",
    "\n",
    "f = 6\n",
    "print(type(f))"
   ]
  },
  {
   "cell_type": "markdown",
   "metadata": {
    "id": "ObFruZRx188U"
   },
   "source": [
    "--------------------------------------------------------------------------------------"
   ]
  },
  {
   "cell_type": "markdown",
   "metadata": {
    "id": "g6izCRXt2LSs"
   },
   "source": [
    "## Q.2) What is the difference between string and variable?\n",
    "\n",
    "### Ans -  \n",
    "\n",
    "- String is a datatype in Python and other programming languages that consist both alphabatic and numeric values in it but it should always be in either single quotes (' ') or in double quotes (\" \"). \n",
    "- Whereas variable is a name or group of names in alphabatic or numeric characters in which we can assign a value."
   ]
  },
  {
   "cell_type": "markdown",
   "metadata": {
    "id": "H2XmRfOs4wh7"
   },
   "source": [
    "-------------------------------------------------------------------------"
   ]
  },
  {
   "cell_type": "markdown",
   "metadata": {
    "id": "aQIhAV7w4zqZ"
   },
   "source": [
    "## Q.3) Describe three different data types.\n",
    "\n",
    "### Ans \n",
    "- There are several datatypes in Python programming language. Some common and most used are given below... \n",
    "- **Numeric data types : int, float, complex.**\n",
    "- **String data types : str**\n",
    "- **Boolean type : bool**\n",
    "\n",
    "\n",
    "- 1) int - To define numeric values, ex: (45, 55, 100).\n",
    "- 2) float - To define numeric values with decimal, ex: (95.55, 12.36, 80.2)\n",
    "- 3) complex - To define Complex values, ex: (5+2j)\n",
    "- 4) str - To define String values but in (' ') or in (\" \"), ex: (\"Mayur\", \"Soni\")\n",
    "- 5) bool - To define True or False values."
   ]
  },
  {
   "cell_type": "markdown",
   "metadata": {
    "id": "h0lgLhFx8UeY"
   },
   "source": [
    "----------------------------------------------------------------------------"
   ]
  },
  {
   "cell_type": "markdown",
   "metadata": {
    "id": "gmEXKj0x8ZeW"
   },
   "source": [
    "## Q.4) What is an expression made up of? What do all expressions do ?\n",
    "\n",
    "### Ans \n",
    "- An expression is made up of Arithmatic, Logical, Equality, Relational etc etc Operators of Mathematics, they performs several types of mathematical and logical operations on values as directed. Some of them are given below...\n",
    "\n",
    "- Arithmatic Expresssion - (+) (-) (*) (/) (//) (%) (**)\n",
    "- Logical Expression - (AND) (OR) (NOT) \n",
    "- Relational (Comparison) Expression - (> Greater than) (< Less than) (== Equal to) (>= Greater than and equal to) (<= Less than and equal to) (!= Not equal to)\n",
    "- Equality Expression - (is) (is not) (== is equal to) (!= is not equal to)"
   ]
  },
  {
   "cell_type": "markdown",
   "metadata": {
    "id": "kAiCYufUBDv_"
   },
   "source": [
    "-------------------------------------------------------------------------"
   ]
  },
  {
   "cell_type": "markdown",
   "metadata": {
    "id": "E6RNZqnRBGGv"
   },
   "source": [
    "## Q.5) This assignment statements, like spam = 10. What is the difference between an expression and a statement ?\n",
    "\n",
    "### Ans - \n",
    "- Expression only contain identifier and operators where operator include arithmetic, logic, realtional (Comparison) and boolean separator. \n",
    "- Whereas Statement is a line or group of lines which are commands that we give a function to perform like. \n",
    "\n",
    "Ex: \n",
    "- (+ - * /) (AND OR NOT) ( > < >= <= != ) these are expressions.\n",
    "- spam = 10 is a statement."
   ]
  },
  {
   "cell_type": "markdown",
   "metadata": {
    "id": "QnuHsozbWMDT"
   },
   "source": [
    "-----------------------------------------------------------------------------"
   ]
  },
  {
   "cell_type": "markdown",
   "metadata": {
    "id": "eq_BRV85WOOj"
   },
   "source": [
    "## Q.6) After running the following code, what does the variable bacon contain?\n",
    "\n",
    "\n",
    "> bacon = 24\n",
    "\n",
    "> bacon + 1"
   ]
  },
  {
   "cell_type": "code",
   "execution_count": null,
   "metadata": {
    "colab": {
     "base_uri": "https://localhost:8080/"
    },
    "id": "17Hom-oW8Vy9",
    "outputId": "ec65184f-13d1-48e4-eaeb-e51a5d3d2f49"
   },
   "outputs": [
    {
     "data": {
      "text/plain": [
       "25"
      ]
     },
     "execution_count": 1,
     "metadata": {},
     "output_type": "execute_result"
    }
   ],
   "source": [
    "# Answer -\n",
    "\n",
    "bacon = 24\n",
    "bacon + 1 "
   ]
  },
  {
   "cell_type": "markdown",
   "metadata": {
    "id": "yfDUfZyIXYN2"
   },
   "source": [
    "### Ans - **After running the following code, variable bacon contain value = 25**"
   ]
  },
  {
   "cell_type": "markdown",
   "metadata": {
    "id": "rzcwSDm8Xil9"
   },
   "source": [
    "----------------------------------------------------------------------------"
   ]
  },
  {
   "cell_type": "markdown",
   "metadata": {
    "id": "ymbdr641XnnU"
   },
   "source": [
    "## Q.7) What should the values of the following two terms be?\n",
    "> 'spam' + 'spamspam'\n",
    "\n",
    "> 'spam' * 3\n"
   ]
  },
  {
   "cell_type": "code",
   "execution_count": null,
   "metadata": {
    "colab": {
     "base_uri": "https://localhost:8080/",
     "height": 35
    },
    "id": "4SSbAsw9Wn7o",
    "outputId": "95c74d2e-5f14-4ebc-e2c0-0914d11ec70c"
   },
   "outputs": [
    {
     "data": {
      "application/vnd.google.colaboratory.intrinsic+json": {
       "type": "string"
      },
      "text/plain": [
       "'spamspamspam'"
      ]
     },
     "execution_count": 6,
     "metadata": {},
     "output_type": "execute_result"
    }
   ],
   "source": [
    "# Ans - \n",
    "\n",
    "'spam' + 'spamspam'\n",
    "\n",
    "# it concate both the values."
   ]
  },
  {
   "cell_type": "code",
   "execution_count": null,
   "metadata": {
    "colab": {
     "base_uri": "https://localhost:8080/",
     "height": 35
    },
    "id": "MS4BmpoyX2m7",
    "outputId": "4fda9a81-e927-435f-e736-8947d5d2c7b5"
   },
   "outputs": [
    {
     "data": {
      "application/vnd.google.colaboratory.intrinsic+json": {
       "type": "string"
      },
      "text/plain": [
       "'spamspamspam'"
      ]
     },
     "execution_count": 8,
     "metadata": {},
     "output_type": "execute_result"
    }
   ],
   "source": [
    "'spam'*3\n",
    "\n",
    "# it simply print the value in the times which it's been multiplied with."
   ]
  },
  {
   "cell_type": "markdown",
   "metadata": {
    "id": "v6qClsrWaXcl"
   },
   "source": [
    "------------------------------------------------------------------------------"
   ]
  },
  {
   "cell_type": "markdown",
   "metadata": {
    "id": "-TLxnY1baaU0"
   },
   "source": [
    "## Q.8) Why is eggs a valid variable name while 100 is invalid ?\n",
    "\n",
    "### Ans - \n",
    "- eggs can be a valid variable name as it's a group of alphabatic characters which Python allows as a variable name and it's also not a reserve keyword.\n",
    "- Whereas 100 can not be a variable name as its a literal integer value and Python does not allow literal values as a variable name."
   ]
  },
  {
   "cell_type": "markdown",
   "metadata": {
    "id": "pPaZXeN-ceUO"
   },
   "source": [
    "------------------------------------------------------------------------------"
   ]
  },
  {
   "cell_type": "markdown",
   "metadata": {
    "id": "ln98Z3FCcghV"
   },
   "source": [
    "## Q.9) What three functions can be used to get the integer, floating-point number, or string version of a value ?\n",
    "\n",
    "### Ans - \n",
    "- To get an integer value we use **int()** function.\n",
    "- To get a float - point value we use **float()** function.\n",
    "- To get a string version of a value, we use **str()** function.\n"
   ]
  },
  {
   "cell_type": "markdown",
   "metadata": {
    "id": "p2vWsPoVjKQG"
   },
   "source": [
    "------------------------------------------------------------------"
   ]
  },
  {
   "cell_type": "markdown",
   "metadata": {
    "id": "GOJIV2f3jMbW"
   },
   "source": [
    "## Q.10) Why does this expression cause an error? How can you fix it ?\n",
    "> 'I have eaten ' + 70 + ' burritos.'\n",
    "\n",
    "\n",
    "### Ans - This expression is causing error because - \n",
    "- We can only concatenate integer to integer or string to string values.\n",
    "- To fix this error we must change the datatype of that perticular value. \n",
    "- As shown in the given example below.... we changed the datatype of value 70 from int (by default) to str (String) so that we can add this 70 to the other values as str(70).\n",
    "\n"
   ]
  },
  {
   "cell_type": "code",
   "execution_count": 10,
   "metadata": {
    "colab": {
     "base_uri": "https://localhost:8080/",
     "height": 36
    },
    "id": "02E2CjFYeEic",
    "outputId": "e4b23d32-821e-4ea0-db63-1395b761b5b6"
   },
   "outputs": [
    {
     "data": {
      "application/vnd.google.colaboratory.intrinsic+json": {
       "type": "string"
      },
      "text/plain": [
       "'I have eaten 70 burritos.'"
      ]
     },
     "execution_count": 10,
     "metadata": {},
     "output_type": "execute_result"
    }
   ],
   "source": [
    "'I have eaten ' + str(70) + ' burritos.'"
   ]
  },
  {
   "cell_type": "markdown",
   "metadata": {
    "id": "gesLcXWukyEZ"
   },
   "source": [
    "--------------------------------------------------------------------------------------End------------------------------------------------------------"
   ]
  }
 ],
 "metadata": {
  "colab": {
   "provenance": []
  },
  "kernelspec": {
   "display_name": "Python 3 (ipykernel)",
   "language": "python",
   "name": "python3"
  },
  "language_info": {
   "codemirror_mode": {
    "name": "ipython",
    "version": 3
   },
   "file_extension": ".py",
   "mimetype": "text/x-python",
   "name": "python",
   "nbconvert_exporter": "python",
   "pygments_lexer": "ipython3",
   "version": "3.10.9"
  }
 },
 "nbformat": 4,
 "nbformat_minor": 1
}
